{
 "cells": [
  {
   "cell_type": "code",
   "execution_count": 1,
   "id": "5f2b2287",
   "metadata": {},
   "outputs": [],
   "source": [
    "import pandas as pd\n",
    "import matplotlib.pyplot as plt\n",
    "import seaborn as sns"
   ]
  },
  {
   "cell_type": "code",
   "execution_count": 2,
   "id": "d2fcbbb0",
   "metadata": {},
   "outputs": [
    {
     "data": {
      "text/html": [
       "<div>\n",
       "<style scoped>\n",
       "    .dataframe tbody tr th:only-of-type {\n",
       "        vertical-align: middle;\n",
       "    }\n",
       "\n",
       "    .dataframe tbody tr th {\n",
       "        vertical-align: top;\n",
       "    }\n",
       "\n",
       "    .dataframe thead th {\n",
       "        text-align: right;\n",
       "    }\n",
       "</style>\n",
       "<table border=\"1\" class=\"dataframe\">\n",
       "  <thead>\n",
       "    <tr style=\"text-align: right;\">\n",
       "      <th></th>\n",
       "      <th>job_id</th>\n",
       "      <th>job_title</th>\n",
       "      <th>company_name</th>\n",
       "      <th>job_location</th>\n",
       "      <th>salary_year_avg</th>\n",
       "      <th>skill_name</th>\n",
       "    </tr>\n",
       "  </thead>\n",
       "  <tbody>\n",
       "    <tr>\n",
       "      <th>0</th>\n",
       "      <td>501111</td>\n",
       "      <td>Fraud Data Analyst</td>\n",
       "      <td>Adyen</td>\n",
       "      <td>Singapore</td>\n",
       "      <td>111175.0</td>\n",
       "      <td>tableau</td>\n",
       "    </tr>\n",
       "    <tr>\n",
       "      <th>1</th>\n",
       "      <td>501111</td>\n",
       "      <td>Fraud Data Analyst</td>\n",
       "      <td>Adyen</td>\n",
       "      <td>Singapore</td>\n",
       "      <td>111175.0</td>\n",
       "      <td>looker</td>\n",
       "    </tr>\n",
       "    <tr>\n",
       "      <th>2</th>\n",
       "      <td>1147623</td>\n",
       "      <td>Carbon Data Analyst, FiscalNote ESG Solutions</td>\n",
       "      <td>FiscalNote</td>\n",
       "      <td>Singapore</td>\n",
       "      <td>111175.0</td>\n",
       "      <td>excel</td>\n",
       "    </tr>\n",
       "    <tr>\n",
       "      <th>3</th>\n",
       "      <td>1147623</td>\n",
       "      <td>Carbon Data Analyst, FiscalNote ESG Solutions</td>\n",
       "      <td>FiscalNote</td>\n",
       "      <td>Singapore</td>\n",
       "      <td>111175.0</td>\n",
       "      <td>tableau</td>\n",
       "    </tr>\n",
       "    <tr>\n",
       "      <th>4</th>\n",
       "      <td>1147623</td>\n",
       "      <td>Carbon Data Analyst, FiscalNote ESG Solutions</td>\n",
       "      <td>FiscalNote</td>\n",
       "      <td>Singapore</td>\n",
       "      <td>111175.0</td>\n",
       "      <td>word</td>\n",
       "    </tr>\n",
       "  </tbody>\n",
       "</table>\n",
       "</div>"
      ],
      "text/plain": [
       "    job_id                                      job_title company_name  \\\n",
       "0   501111                             Fraud Data Analyst        Adyen   \n",
       "1   501111                             Fraud Data Analyst        Adyen   \n",
       "2  1147623  Carbon Data Analyst, FiscalNote ESG Solutions   FiscalNote   \n",
       "3  1147623  Carbon Data Analyst, FiscalNote ESG Solutions   FiscalNote   \n",
       "4  1147623  Carbon Data Analyst, FiscalNote ESG Solutions   FiscalNote   \n",
       "\n",
       "  job_location  salary_year_avg skill_name  \n",
       "0    Singapore         111175.0    tableau  \n",
       "1    Singapore         111175.0     looker  \n",
       "2    Singapore         111175.0      excel  \n",
       "3    Singapore         111175.0    tableau  \n",
       "4    Singapore         111175.0       word  "
      ]
     },
     "execution_count": 2,
     "metadata": {},
     "output_type": "execute_result"
    }
   ],
   "source": [
    "df = pd.read_csv('C:/Users/jiadi/OneDrive/Data Analytics/LB_SQL_Project_Data_Job_Analysis/csv_files/top_job_skills.csv')\n",
    "df.head()"
   ]
  },
  {
   "cell_type": "code",
   "execution_count": 11,
   "id": "c7cd5a5a",
   "metadata": {},
   "outputs": [
    {
     "data": {
      "text/html": [
       "<div>\n",
       "<style scoped>\n",
       "    .dataframe tbody tr th:only-of-type {\n",
       "        vertical-align: middle;\n",
       "    }\n",
       "\n",
       "    .dataframe tbody tr th {\n",
       "        vertical-align: top;\n",
       "    }\n",
       "\n",
       "    .dataframe thead th {\n",
       "        text-align: right;\n",
       "    }\n",
       "</style>\n",
       "<table border=\"1\" class=\"dataframe\">\n",
       "  <thead>\n",
       "    <tr style=\"text-align: right;\">\n",
       "      <th></th>\n",
       "      <th>skill_name</th>\n",
       "      <th>skill_count</th>\n",
       "    </tr>\n",
       "  </thead>\n",
       "  <tbody>\n",
       "    <tr>\n",
       "      <th>0</th>\n",
       "      <td>sql</td>\n",
       "      <td>6</td>\n",
       "    </tr>\n",
       "    <tr>\n",
       "      <th>1</th>\n",
       "      <td>python</td>\n",
       "      <td>5</td>\n",
       "    </tr>\n",
       "    <tr>\n",
       "      <th>2</th>\n",
       "      <td>aws</td>\n",
       "      <td>4</td>\n",
       "    </tr>\n",
       "    <tr>\n",
       "      <th>3</th>\n",
       "      <td>excel</td>\n",
       "      <td>4</td>\n",
       "    </tr>\n",
       "    <tr>\n",
       "      <th>4</th>\n",
       "      <td>tableau</td>\n",
       "      <td>4</td>\n",
       "    </tr>\n",
       "  </tbody>\n",
       "</table>\n",
       "</div>"
      ],
      "text/plain": [
       "  skill_name  skill_count\n",
       "0        sql            6\n",
       "1     python            5\n",
       "2        aws            4\n",
       "3      excel            4\n",
       "4    tableau            4"
      ]
     },
     "execution_count": 11,
     "metadata": {},
     "output_type": "execute_result"
    }
   ],
   "source": [
    "df_skill = df.groupby('skill_name').size()\n",
    "df_skill = df_skill.sort_values(ascending=False).head().reset_index(name='skill_count')\n",
    "df_skill"
   ]
  },
  {
   "cell_type": "code",
   "execution_count": 20,
   "id": "f4f1d760",
   "metadata": {},
   "outputs": [
    {
     "data": {
      "image/png": "[encoded data removed]",
      "text/plain": [
       "<Figure size 640x480 with 1 Axes>"
      ]
     },
     "metadata": {},
     "output_type": "display_data"
    }
   ],
   "source": [
    "sns.barplot(df_skill,x='skill_count', y='skill_name', hue='skill_count',legend=False)\n",
    "sns.despine()\n",
    "plt.ylabel('')\n",
    "plt.xlabel('Number of Skill Mentions')\n",
    "plt.title('Skill Frequency at Top-Paying Data Analyst Jobs')\n",
    "plt.show()"
   ]
  },
  {
   "cell_type": "code",
   "execution_count": null,
   "id": "f0893718",
   "metadata": {},
   "outputs": [],
   "source": []
  }
 ],
 "metadata": {
  "kernelspec": {
   "display_name": "LB_project",
   "language": "python",
   "name": "python3"
  },
  "language_info": {
   "codemirror_mode": {
    "name": "ipython",
    "version": 3
   },
   "file_extension": ".py",
   "mimetype": "text/x-python",
   "name": "python",
   "nbconvert_exporter": "python",
   "pygments_lexer": "ipython3",
   "version": "3.11.13"
  }
 },
 "nbformat": 4,
 "nbformat_minor": 5
}
